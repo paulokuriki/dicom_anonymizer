{
  "nbformat": 4,
  "nbformat_minor": 0,
  "metadata": {
    "celltoolbar": "Slideshow",
    "colab": {
      "name": "dicom_anonymizer.ipynb",
      "provenance": [],
      "collapsed_sections": [],
      "include_colab_link": true
    },
    "kernelspec": {
      "display_name": "Python 3",
      "language": "python",
      "name": "python3"
    },
    "language_info": {
      "codemirror_mode": {
        "name": "ipython",
        "version": 3
      },
      "file_extension": ".py",
      "mimetype": "text/x-python",
      "name": "python",
      "nbconvert_exporter": "python",
      "pygments_lexer": "ipython3",
      "version": "3.8.5"
    }
  },
  "cells": [
    {
      "cell_type": "markdown",
      "metadata": {
        "id": "view-in-github",
        "colab_type": "text"
      },
      "source": [
        "<a href=\"https://colab.research.google.com/github/paulokuriki/dicom_anonymizer/blob/main/dicom_anonymizer.ipynb\" target=\"_parent\"><img src=\"https://colab.research.google.com/assets/colab-badge.svg\" alt=\"Open In Colab\"/></a>"
      ]
    },
    {
      "cell_type": "code",
      "metadata": {
        "id": "fW_83SRpSS61"
      },
      "source": [
        "!pip install pytesseract\n",
        "!pip install pydicom"
      ],
      "execution_count": null,
      "outputs": []
    },
    {
      "cell_type": "code",
      "metadata": {
        "id": "KGaDJ5aVSiSe"
      },
      "source": [
        "from PIL import Image\n",
        "import pytesseract\n",
        "import pydicom\n",
        "import os\n",
        "\n",
        "try:\n",
        "    # tenta montar o drive do google drive\n",
        "    from google.colab import drive\n",
        "    drive.mount('/content/drive')\n",
        "    curr_path = \"/content/drive/MyDrive/Colab Notebooks/Dicom_Anonymizer\"\n",
        "except:\n",
        "    # se deu erro, tenta montar local\n",
        "    import os\n",
        "    curr_path = os.getcwd()  \n",
        "    \n",
        "# necessário ter o tesseract-ocr instalado na máquina\n",
        "# https://github.com/tesseract-ocr/tessdoc/blob/master/Installation.md\n",
        "pytesseract.pytesseract.tesseract_cmd = 'C:\\\\Program Files\\\\Tesseract-OCR\\\\tesseract.exe'\n",
        "\n",
        "# funcoes auxiliares para limpar o texto do OCR.\n",
        "def limpa_texto(texto):\n",
        "    texto = replace_text(texto, '  ', ' ')\n",
        "    texto = replace_text(texto, '\\n\\n', '\\n')\n",
        "    texto = texto.strip('\\n')\n",
        "    texto = texto.strip()\n",
        "    return texto\n",
        "\n",
        "def replace_text(texto, procurado, troca):\n",
        "    while procurado in texto:\n",
        "        texto = texto.replace(procurado, troca)\n",
        "    return texto"
      ],
      "execution_count": null,
      "outputs": []
    },
    {
      "cell_type": "markdown",
      "metadata": {
        "id": "w7P-tkqTidqO"
      },
      "source": [
        "<img src=\"https://raw.githubusercontent.com/paulokuriki/dicom_anonymizer/main/dasa_inova.png\">\n",
        "\n",
        "# Apresentação de trabalho premiado RSNA\n",
        "\n",
        "### **More than Meets the Eyes: A Radiologist's Guide to DICOM Anonymization** "
      ]
    },
    {
      "cell_type": "markdown",
      "metadata": {
        "id": "db2C5PrkkaJv"
      },
      "source": [
        "<img src=\"https://raw.githubusercontent.com/paulokuriki/dicom_anonymizer/main/magna.png\">\n"
      ]
    },
    {
      "cell_type": "markdown",
      "metadata": {
        "id": "VmsJxOwvO8fe"
      },
      "source": [
        "\n",
        "---\n",
        "\n",
        "### Agradecimentos\n",
        "\n",
        "Marcelo S. Takahashi; Victor Marques; Matheus H. Ferreira; Edgar Nishiyama; Daniel Silva; Luis F. Ribeiro; Guilherme H. Magalhaes; Paulo E. Kuriki; Marcio Ricardo T. Garcia; Leonardo Vedolin; Felipe C. Kitamura\n",
        "\n",
        "---\n",
        "\n",
        "<img src=\"https://raw.githubusercontent.com/paulokuriki/dicom_anonymizer/main/straus.jpeg\">\n",
        "\n",
        "Marcelo Straus\n",
        "\n",
        "---\n",
        "\n"
      ]
    },
    {
      "cell_type": "markdown",
      "metadata": {
        "id": "1UG4pj2snD9q"
      },
      "source": [
        "## DICOM - Digital Imaging and Communication in Medicine\n",
        "\n",
        "É o padrão internacional para transmitir, armazenar, resgatar, imprimir, processar e visualizar informações de imagens médicas.\n",
        "\n",
        "Criado pelo **ACR** e **NEMA** pela primeira vez em 1983, terceira versão em 1993 cunhada de DICOM.\n",
        "\n",
        "Refere-se a um **formato de arquivo** e também um **protocolo de comunicação**.\n",
        "\n",
        "Torna possível a **interoperabilidade** de informações de imagens médicas\n",
        "\n",
        "***Capacidade de um sistema se comunicar de forma transparente com outros sistemas***\n",
        "\n",
        "---\n"
      ]
    },
    {
      "cell_type": "markdown",
      "metadata": {
        "id": "qZ5w3RZGnqVC"
      },
      "source": [
        "## Estrutura do Arquivo DICOM\n",
        "\n",
        "Você pode pensar em um arquivo DICOM como se fosse uma pasta em um computador. Essa pasta geralmente contém uma imagem, bem como outros dados, pode até conter outras “pastas”.\n",
        "\n",
        "<img src=\"https://raw.githubusercontent.com/paulokuriki/dicom_anonymizer/main/dicom_folder.png\">\n",
        "\n",
        "<img src=\"https://raw.githubusercontent.com/paulokuriki/dicom_anonymizer/main/dicom_dataset.png\">\n",
        "\n",
        "\n",
        "---\n",
        "\n"
      ]
    },
    {
      "cell_type": "markdown",
      "metadata": {
        "id": "8ZmVyRTTkg4e"
      },
      "source": [
        "## Estrutura do Arquivo DICOM: O Data Set\n",
        "\n",
        "### Um  Data Set é composto por vários Data Elements (Tags DICOM)\n",
        "\n",
        "<img src=\"https://raw.githubusercontent.com/paulokuriki/dicom_anonymizer/main/dataelements.png\">\n",
        "\n",
        "---\n",
        "\n"
      ]
    },
    {
      "cell_type": "markdown",
      "metadata": {
        "id": "vBIAAC5clLMF"
      },
      "source": [
        "## Os componenentes do Data Element (Tag DICOM):\n",
        "*   Tem um identificador único, chamado **Tag**, representado por 8 caracteres.\n",
        "*   Tem uma descrição única, chamada **Description**.\n",
        "*   Tem um valor, chamado **Value**.\n",
        "\n",
        "<img src=\"https://raw.githubusercontent.com/paulokuriki/dicom_anonymizer/main/dataelements_color.png\">\n",
        "\n",
        "\n",
        "---\n",
        "\n"
      ]
    },
    {
      "cell_type": "markdown",
      "metadata": {
        "id": "qGgBTT_Ul3fU"
      },
      "source": [
        "## **Data Elements**: O Pixel Data\n",
        "\n",
        "**Pixel Data** é um Data Element especial que contém os dados da imagem propriamente dita (compõe a maior porcentagem do arquivo DICOM)\n",
        "\n",
        "<img src=\"https://raw.githubusercontent.com/paulokuriki/dicom_anonymizer/main/pixel_data.png\">\n",
        "\n",
        "\n",
        "---\n",
        "\n"
      ]
    },
    {
      "cell_type": "markdown",
      "metadata": {
        "id": "SAmP4aErkEOQ"
      },
      "source": [
        "## Data Elements numa imagem DICOM\n",
        "<img src=\"https://raw.githubusercontent.com/paulokuriki/dicom_anonymizer/main/dicom_dataelements.png\">\n",
        "\n",
        "\n",
        "---\n",
        "\n"
      ]
    },
    {
      "cell_type": "markdown",
      "metadata": {
        "id": "juGw2jGi0eLB"
      },
      "source": [
        "### Abrindo um arquivo DICOM no Python"
      ]
    },
    {
      "cell_type": "code",
      "metadata": {
        "id": "7-JOPlj60eLB"
      },
      "source": [
        "from pydicom import dcmread\n",
        "\n",
        "dcm_file = os.path.join(curr_path, 'torax.dcm')      # define o caminho do arquivo DICOM de exemplo\n",
        "dataset = dcmread(dcm_file)                          # usa a biblioteca pydicom para abrir o arquivo"
      ],
      "execution_count": null,
      "outputs": []
    },
    {
      "cell_type": "code",
      "metadata": {
        "id": "zPksgYyS0eLC"
      },
      "source": [
        "dataset                                              # mostra o dataset do arquivo DICOM"
      ],
      "execution_count": null,
      "outputs": []
    },
    {
      "cell_type": "markdown",
      "metadata": {
        "id": "RFOiWs8H0eLC"
      },
      "source": [
        "### O Pixel Array"
      ]
    },
    {
      "cell_type": "code",
      "metadata": {
        "id": "fTXL3kP9M6wL"
      },
      "source": [
        "dataset.pixel_array.shape   # exibe a resolução da matrix (nro de linhas e colunas da imagem)"
      ],
      "execution_count": null,
      "outputs": []
    },
    {
      "cell_type": "code",
      "metadata": {
        "id": "TzDZjpdo0eLC"
      },
      "source": [
        "dataset.pixel_array        # exibe o valor de cada pixel da matrix"
      ],
      "execution_count": null,
      "outputs": []
    },
    {
      "cell_type": "code",
      "metadata": {
        "id": "9_4TacId0eLC"
      },
      "source": [
        "import matplotlib.pyplot as plt\n",
        "plt.imshow(dataset.pixel_array, cmap=plt.cm.gray)    # passa a matriz do pixel data para o objeto pyplot\n",
        "plt.show()                                           # exibe a imagem"
      ],
      "execution_count": null,
      "outputs": []
    },
    {
      "cell_type": "markdown",
      "metadata": {
        "id": "Bgu0lJCT0eLD"
      },
      "source": [
        "## Desidentificação\n",
        "\n",
        "Quantidade cada vez maior de dados médicos digitais disponíveis.\n",
        "\n",
        "Desidentificação é utilizada para proteger a privacidade do paciente.\n",
        "\n",
        "Terminologia é confusa\n",
        "\n",
        "---\n",
        "\n"
      ]
    },
    {
      "cell_type": "markdown",
      "metadata": {
        "id": "gBo1B4tY0eLD"
      },
      "source": [
        "# A Desidentificação é realmente necessária?\n",
        "---\n",
        "<img src=\"https://raw.githubusercontent.com/paulokuriki/dicom_anonymizer/main/robust_deanonymization.png\">\n",
        "---\n",
        "<img src=\"https://raw.githubusercontent.com/paulokuriki/dicom_anonymizer/main/netflix.png\">\n",
        "---\n",
        "<img src=\"https://raw.githubusercontent.com/paulokuriki/dicom_anonymizer/main/imdb.jpg\">\n",
        "\n",
        "---\n",
        "\n"
      ]
    },
    {
      "cell_type": "markdown",
      "metadata": {
        "id": "xsgbc8yN0eLD"
      },
      "source": [
        "# Trade-off\n",
        "<img src=\"https://raw.githubusercontent.com/paulokuriki/dicom_anonymizer/main/deidentificacao.png\">\n",
        "\n",
        "---\n",
        "\n"
      ]
    },
    {
      "cell_type": "markdown",
      "metadata": {
        "id": "QY7zf0ia0eLD"
      },
      "source": [
        "# Dados pseudonimizados\n",
        "\n",
        "Utiliza-se um pseudônimo para substituir um identificador do paciente.\n",
        "\n",
        "Dados ainda podem ser indiretamente identificados\n",
        "\n",
        "**Exemplo:**\n",
        "\n",
        "João Silva, masculino, dn 05/10/1975, peso = 52 kg\n",
        "\n",
        "**`Paciente 1`**, masculino, dn 05/10/1975, peso = 52 kg\n",
        "\n",
        "\n",
        "---\n",
        "\n"
      ]
    },
    {
      "cell_type": "markdown",
      "metadata": {
        "id": "kTtGyP_a0eLD"
      },
      "source": [
        "# Dados desidentificados\n",
        "\n",
        "Todas as informações que poderiam identificar indiretamente o paciente são removidos/alterados.\n",
        "\n",
        "Pode ser revertido. Usado frequentemente em radiologia.\n",
        "\n",
        "**Exemplo:**\n",
        "\n",
        "João Silva, masculino, dn 05/10/1975, peso = 52 kg\n",
        "\n",
        "**`Paciente 1, entre 40 e 60 anos, peso entre 50-75 kg`**\n"
      ]
    },
    {
      "cell_type": "markdown",
      "metadata": {
        "id": "BwtJiwqk0eLE"
      },
      "source": [
        "# Dados anonimizados\n",
        "\n",
        "Descaracterização  irreversível do dado.\n",
        "\n",
        "Muito difícil de ser atingido e acaba limitando muito a utilidade do dado.\n",
        "\n",
        "**Exemplo:**\n",
        "\n",
        "João Silva, masculino, dn 05/10/1975, peso = 52 kg\n",
        "\n",
        "48% da população é do gênero masculino\n",
        "\n",
        "---\n",
        "\n",
        "\n"
      ]
    },
    {
      "cell_type": "markdown",
      "metadata": {
        "id": "201KkmgC0eLE"
      },
      "source": [
        "# Desidentificação de DICOM\n",
        "\n",
        "Os dados que são considerados identificadores diretos ou indiretos devem ser removidos ou terem os seus valores alterados.\n",
        "\n",
        "Pode ser realizada através de visualizadores DICOM, programas específicos (RSNA MIRC CTP) ou bibliotecas de programação (pydicom).\n",
        "\n",
        "https://www.rsna.org/research/imaging-research-tools\n",
        "\n",
        "---\n",
        "\n"
      ]
    },
    {
      "cell_type": "markdown",
      "metadata": {
        "id": "3V6DPN9dM6wO"
      },
      "source": [
        "# Desidentificando no Python"
      ]
    },
    {
      "cell_type": "code",
      "metadata": {
        "id": "WP1fYq1iM6wO"
      },
      "source": [
        "from pydicom import dcmread\n",
        "\n",
        "dcm_file = os.path.join(curr_path, 'torax.dcm')      # define o caminho do arquivo DICOM de exemplo\n",
        "dataset = dcmread(dcm_file) \n",
        "\n",
        "print('Nome', dataset.PatientName)\n",
        "print('ID', dataset.PatientID)"
      ],
      "execution_count": null,
      "outputs": []
    },
    {
      "cell_type": "code",
      "metadata": {
        "id": "EGsEvqV8M6wO"
      },
      "source": [
        "dataset.PatientName = \"SEM NOME\"\n",
        "dataset.PatientID = \"ANON 00001\""
      ],
      "execution_count": null,
      "outputs": []
    },
    {
      "cell_type": "code",
      "metadata": {
        "id": "0z0GHILGM6wO"
      },
      "source": [
        "dataset"
      ],
      "execution_count": null,
      "outputs": []
    },
    {
      "cell_type": "code",
      "metadata": {
        "id": "Sn_tjeIaM6wP"
      },
      "source": [
        "dataset.save_as(\"anon.dcm\")"
      ],
      "execution_count": null,
      "outputs": []
    },
    {
      "cell_type": "markdown",
      "metadata": {
        "id": "0XgsWGqhM6wP"
      },
      "source": [
        "# Abrindo o arquivo anonimizado"
      ]
    },
    {
      "cell_type": "code",
      "metadata": {
        "id": "Oc9qeSbpM6wP"
      },
      "source": [
        "dcm_file = os.path.join(curr_path, 'anon.dcm')      # define o caminho do arquivo DICOM de exemplo\n",
        "dataset = dcmread(dcm_file) \n",
        "\n",
        "print(dataset.PatientName, dataset.PatientID)"
      ],
      "execution_count": null,
      "outputs": []
    },
    {
      "cell_type": "markdown",
      "metadata": {
        "id": "J3skObyI0eLE"
      },
      "source": [
        "# Desidentificação de DICOM\n",
        "\n",
        "Os elementos de um arquivo DICOM podem ser classificados em três tipos:\n",
        "\n",
        "**Tipo 1:** Obrigatório e precisa ter um valor\n",
        "* Colunas e linhas da imagem, orientação da imagem...\n",
        "\n",
        "**Tipo 2:** Obrigatório mas pode ser vazio\n",
        "* ID do paciente, data de nascimento, sexo...\n",
        "\n",
        "**Tipo 3:** Opcional\n",
        "* Médico solicitante, grupo étnico, nome da instituição...\n",
        "\n",
        "### Dicas\n",
        "\n",
        "Se remover um DICOM Data Element, garanta que não é do tipo 1 ou 2\n",
        "\n",
        "Se apagar um valor de um Data Element, garante que não é do tipo 1\n",
        "\n",
        "Se substituir o valor de um Data Element, garante que está em conformidade com o formato DICOM. Ex: UIDs (StudyInstanceUID, SeriesInstanceUID, SOPInstanceUID) devem ter no máximo 64 caracteres. \n",
        "\n",
        "Estas informações podem ser acessadas na documentação DICOM http://dicom.nema.org/\n"
      ]
    },
    {
      "cell_type": "markdown",
      "metadata": {
        "id": "n9bYYQ-GM6wQ"
      },
      "source": [
        "# Dicas para desidentificação de DICOM\n",
        "\n",
        "### Tags DICOM Privadas:\n",
        "Tags Dicom que não estão incluídas na documentação DICOM padrão.\n",
        "\n",
        "Estas Tags DICOM são geralmente geradas em situações específicas, seja durante a aquisição da imagem ou durante o processamento e pode conter informações sensíveis do paciente.\n",
        "\n",
        "É SEMPRE recomendável que todas as Tags Privadas sejam removidas durante a desidentificação, mas em raras situações, esta remoção também pode corromper o arquivo DICOM (tomossíntese)."
      ]
    },
    {
      "cell_type": "markdown",
      "metadata": {
        "id": "r0mM6Ty30eLE"
      },
      "source": [
        "# Dicas para desidentificação de DICOM\n",
        "\n",
        "### Modalidades SC, US e SR\n",
        "\n",
        "Na ultrassonografia (US) e secondary capture (captura secundária – SC) os dados do paciente além de estar registrados estão também registrados no Pixel Data (própria imagem).\n",
        "\n",
        "<img src=\"https://raw.githubusercontent.com/paulokuriki/dicom_anonymizer/main/us_abdome.png\">"
      ]
    },
    {
      "cell_type": "markdown",
      "metadata": {
        "id": "Pm0n0gDuM6wQ"
      },
      "source": [
        "# Dicas para desidentificação de DICOM\n",
        "\n",
        "### Modalidades SC, US e SR\n",
        "\n",
        "Quando usar imagens em apresentações, como no Power Point por exemplo, tenha certeza de que os pixels foram apagados da imagens\n",
        "\n",
        "Crop, blocos, etc sobrepostos sobre os slides não apagam as informações sensíveis das imagens.\n",
        "\n",
        "<img src=\"https://raw.githubusercontent.com/paulokuriki/dicom_anonymizer/main/search_engines.png\">\n",
        "\n",
        "<img src=\"https://raw.githubusercontent.com/paulokuriki/dicom_anonymizer/main/keeping_phi.png\">\n",
        "\n",
        "https://healthitsecurity.com/news/search-engines-may-expose-patient-health-information-acr-warns\n",
        "\n",
        "https://www.acr.org/Practice-Management-Quality-Informatics/Informatics/PHI"
      ]
    },
    {
      "cell_type": "markdown",
      "metadata": {
        "id": "SnL4rFrTM6wQ"
      },
      "source": [
        "# Usando OCR para identificar dados de imagens"
      ]
    },
    {
      "cell_type": "code",
      "metadata": {
        "id": "LUo7SY-nh5SW"
      },
      "source": [
        "from PIL import Image\n",
        "usg_file = os.path.join(curr_path, 'us_abdome.png')\n",
        "img = Image.open(usg_file)\n",
        "display(img)"
      ],
      "execution_count": null,
      "outputs": []
    },
    {
      "cell_type": "code",
      "metadata": {
        "id": "h_HzDT6qSMYX"
      },
      "source": [
        "texto_ocr = pytesseract.image_to_string(img)\n",
        "texto_ocr = limpa_texto(texto_ocr)\n",
        "print(texto_ocr)"
      ],
      "execution_count": null,
      "outputs": []
    },
    {
      "cell_type": "markdown",
      "metadata": {
        "id": "L6nou6JOM6wR"
      },
      "source": [
        "# Usando OCR para identificar dados de imagens"
      ]
    },
    {
      "cell_type": "code",
      "metadata": {
        "id": "JMVWnxWTM6wR"
      },
      "source": [
        "usg_file = os.path.join(curr_path, 'use_mascara.jpg')\n",
        "img = Image.open(usg_file)\n",
        "display(img)"
      ],
      "execution_count": null,
      "outputs": []
    },
    {
      "cell_type": "code",
      "metadata": {
        "id": "GMv0YaL3M6wR"
      },
      "source": [
        "texto_ocr = pytesseract.image_to_string(img)\n",
        "texto_ocr = limpa_texto(texto_ocr)\n",
        "print(texto_ocr)"
      ],
      "execution_count": null,
      "outputs": []
    },
    {
      "cell_type": "markdown",
      "metadata": {
        "id": "NfuPFKLQ0eLF"
      },
      "source": [
        "# De-identificação é suficiente?\n",
        "\n",
        "<img src=\"https://raw.githubusercontent.com/paulokuriki/dicom_anonymizer/main/face_1.png\">"
      ]
    },
    {
      "cell_type": "markdown",
      "metadata": {
        "id": "zVYuDSHyM6wS"
      },
      "source": [
        "<img src=\"https://raw.githubusercontent.com/paulokuriki/dicom_anonymizer/main/face_2.png\">\n",
        "\n",
        " [Schwarz, Christopher G., et al. \"Identification of anonymous MRI research participants with face-recognition software.\" New England Journal of Medicine 381.17 (2019): 1684-1686.](https://pubmed.ncbi.nlm.nih.gov/31644852/)\n"
      ]
    },
    {
      "cell_type": "markdown",
      "metadata": {
        "id": "UOwmIa5iM6wS"
      },
      "source": [
        "# Take Home message\n",
        "\n",
        "### Um arquivo DICOM contém muito mais dados que uma simples IMAGEM.\n",
        "\n",
        "### Desidentificar dados não é uma tarefa muito complexa, mas requer atenção aos detalhes.\n",
        "\n",
        "### Encontrar um equilíbrio entre segurança do paciente e privacidade, mantendo a utilidade dos dados, é a chave."
      ]
    }
  ]
}