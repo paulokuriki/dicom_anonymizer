{
  "nbformat": 4,
  "nbformat_minor": 0,
  "metadata": {
    "colab": {
      "name": "Anonimizando DICOM.ipynb",
      "private_outputs": true,
      "provenance": [],
      "authorship_tag": "ABX9TyNEMvXIX+HOM3URgp6VqtUM",
      "include_colab_link": true
    },
    "kernelspec": {
      "name": "python3",
      "display_name": "Python 3"
    }
  },
  "cells": [
    {
      "cell_type": "markdown",
      "metadata": {
        "id": "view-in-github",
        "colab_type": "text"
      },
      "source": [
        "<a href=\"https://colab.research.google.com/github/paulokuriki/dicom_anonymizer/blob/main/dicom_anonymizer.ipynb\" target=\"_parent\"><img src=\"https://colab.research.google.com/assets/colab-badge.svg\" alt=\"Open In Colab\"/></a>"
      ]
    },
    {
      "cell_type": "markdown",
      "metadata": {
        "id": "w7P-tkqTidqO"
      },
      "source": [
        "# DASA EDUCA\r\n",
        "\r\n",
        "# Apresentação do trabalho \r\n",
        "\r\n",
        "## **More than Meets the Eyes: A Radiologist's Guide to DICOM Anonymization** "
      ]
    },
    {
      "cell_type": "markdown",
      "metadata": {
        "id": "db2C5PrkkaJv"
      },
      "source": [
        "<img src=\"https://drive.google.com/uc?export=view&id=1szRK32KljSnx89_FWs0q8gabBtzZhrCF\">\r\n",
        "\r\n",
        "<img src=\"https://drive.google.com/uc?export=view&id=1yjS3QeAxqtE8JStXw7xepkeCFUOqzfPL\">\r\n"
      ]
    },
    {
      "cell_type": "code",
      "metadata": {
        "id": "pTiDdIdzhXLz"
      },
      "source": [
        ""
      ],
      "execution_count": null,
      "outputs": []
    }
  ]
}