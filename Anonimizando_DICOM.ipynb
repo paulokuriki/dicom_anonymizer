{
  "nbformat": 4,
  "nbformat_minor": 0,
  "metadata": {
    "colab": {
      "name": "Anonimizando DICOM.ipynb",
      "private_outputs": true,
      "provenance": [],
      "collapsed_sections": [],
      "authorship_tag": "ABX9TyN1oZwm3+aRjO3nINaQUFxN",
      "include_colab_link": true
    },
    "kernelspec": {
      "name": "python3",
      "display_name": "Python 3"
    }
  },
  "cells": [
    {
      "cell_type": "markdown",
      "metadata": {
        "id": "view-in-github",
        "colab_type": "text"
      },
      "source": [
        "<a href=\"https://colab.research.google.com/github/paulokuriki/dicom_anonymizer/blob/main/Anonimizando_DICOM.ipynb\" target=\"_parent\"><img src=\"https://colab.research.google.com/assets/colab-badge.svg\" alt=\"Open In Colab\"/></a>"
      ]
    },
    {
      "cell_type": "markdown",
      "metadata": {
        "id": "w7P-tkqTidqO"
      },
      "source": [
        "# DASA EDUCA\r\n",
        "\r\n",
        "# Apresentação do trabalho \r\n",
        "\r\n",
        "## **More than Meets the Eyes: A Radiologist's Guide to DICOM Anonymization** "
      ]
    },
    {
      "cell_type": "markdown",
      "metadata": {
        "id": "db2C5PrkkaJv"
      },
      "source": [
        "<img src=\"https://drive.google.com/uc?export=view&id=1szRK32KljSnx89_FWs0q8gabBtzZhrCF\">\r\n",
        "\r\n",
        "<img src=\"https://drive.google.com/uc?export=view&id=1yjS3QeAxqtE8JStXw7xepkeCFUOqzfPL\">\r\n"
      ]
    },
    {
      "cell_type": "markdown",
      "metadata": {
        "id": "1UG4pj2snD9q"
      },
      "source": [
        "##DICOM - Digital Imaging and Communication in Medicine\r\n",
        "\r\n",
        "É o padrão internacional para transmitir, armazenar, resgatar, imprimir, processar e visualizar informações de imagens médicas.\r\n",
        "\r\n",
        "Criado pelo ACR e NEMA pela primeira vez em 1983, terceira versão em 1993 cunhada de DICOM.\r\n"
      ]
    },
    {
      "cell_type": "markdown",
      "metadata": {
        "id": "3REQd5f0nR0z"
      },
      "source": [
        "Refere-se a um `formato de arquivo` e também um `protocolo de comunicação`.\r\n",
        "\r\n",
        "Torna possível a **interoperabilidade** de informações de imagens médicas\r\n",
        "\r\n",
        "Capacidade de um sistema se comunicar de forma transparente com outros sistemas\r\n"
      ]
    },
    {
      "cell_type": "markdown",
      "metadata": {
        "id": "qZ5w3RZGnqVC"
      },
      "source": [
        "## Estrutura do Arquivo DICOM\r\n",
        "\r\n",
        "Você pode pensar em um arquivo DICOM como se fosse uma pasta em um computador\r\n"
      ]
    },
    {
      "cell_type": "code",
      "metadata": {
        "id": "pTiDdIdzhXLz"
      },
      "source": [
        ""
      ],
      "execution_count": null,
      "outputs": []
    }
  ]
}